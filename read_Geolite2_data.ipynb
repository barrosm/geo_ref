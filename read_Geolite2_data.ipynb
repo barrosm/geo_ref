{
 "cells": [
  {
   "cell_type": "markdown",
   "metadata": {},
   "source": [
    "### Reading and combining Geolite2 databases"
   ]
  },
  {
   "cell_type": "markdown",
   "metadata": {},
   "source": [
    "Databases\n",
    "GeoLite2 databases are free IP geolocation databases comparable to, but less accurate than, MaxMind’s GeoIP2 databases. The GeoLite2 Country and City databases are updated on the first Tuesday of each month. The GeoLite2 ASN database is updated every Tuesday.\n",
    "\n",
    "For more information refer to: https://dev.maxmind.com/geoip/geoip2/geolite2/\n",
    "\n",
    "Geolite2 City Database Link: https://geolite.maxmind.com/download/geoip/database/GeoLite2-City-CSV.zip\n",
    "\n",
    "Geolite2 Country Database Link: https://geolite.maxmind.com/download/geoip/database/GeoLite2-Country-CSV.zip\n",
    "\n",
    "Geolite2 ASN database Link: https://geolite.maxmind.com/download/geoip/database/GeoLite2-ASN-CSV.zip"
   ]
  },
  {
   "cell_type": "code",
   "execution_count": 1,
   "metadata": {},
   "outputs": [],
   "source": [
    "from zipfile import ZipFile\n",
    "import urllib.request"
   ]
  },
  {
   "cell_type": "code",
   "execution_count": 2,
   "metadata": {},
   "outputs": [],
   "source": [
    "import pandas as pd\n",
    "import os as os\n",
    "import matplotlib.pyplot as plt\n",
    "import numpy as np\n",
    "\n",
    "from datetime import datetime\n",
    "%matplotlib inline\n",
    "\n",
    "import seaborn as sns; \n",
    "sns.set(rc={'figure.figsize':(17,6)})"
   ]
  },
  {
   "cell_type": "code",
   "execution_count": 3,
   "metadata": {},
   "outputs": [
    {
     "data": {
      "text/plain": [
       "'/home/jovyan/work/sexyhot'"
      ]
     },
     "execution_count": 3,
     "metadata": {},
     "output_type": "execute_result"
    }
   ],
   "source": [
    "os.getcwd()"
   ]
  },
  {
   "cell_type": "code",
   "execution_count": 4,
   "metadata": {},
   "outputs": [],
   "source": [
    "path = '/home/jovyan/work/sexyhot/Geolite2/'"
   ]
  },
  {
   "cell_type": "markdown",
   "metadata": {},
   "source": [
    "### Download Zipped City Data from Site and store locally"
   ]
  },
  {
   "cell_type": "code",
   "execution_count": 5,
   "metadata": {},
   "outputs": [
    {
     "data": {
      "text/plain": [
       "('/home/jovyan/work/sexyhot/Geolite2/Geolite2_City_CSV_downloaded.zip',\n",
       " <http.client.HTTPMessage at 0x7f99a2404978>)"
      ]
     },
     "execution_count": 5,
     "metadata": {},
     "output_type": "execute_result"
    }
   ],
   "source": [
    "url = 'https://geolite.maxmind.com/download/geoip/database/GeoLite2-City-CSV.zip'\n",
    "urllib.request.urlretrieve(url, path +\"Geolite2_City_CSV_downloaded.zip\")"
   ]
  },
  {
   "cell_type": "markdown",
   "metadata": {},
   "source": [
    "### Download Zipped Country Data from Site and store locally"
   ]
  },
  {
   "cell_type": "code",
   "execution_count": 6,
   "metadata": {},
   "outputs": [
    {
     "data": {
      "text/plain": [
       "('/home/jovyan/work/sexyhot/Geolite2/Geolite2_Country_CSV_downloaded.zip',\n",
       " <http.client.HTTPMessage at 0x7f99a24162e8>)"
      ]
     },
     "execution_count": 6,
     "metadata": {},
     "output_type": "execute_result"
    }
   ],
   "source": [
    "url_country='https://geolite.maxmind.com/download/geoip/database/GeoLite2-Country-CSV.zip'\n",
    "urllib.request.urlretrieve(url_country, path +\"Geolite2_Country_CSV_downloaded.zip\")"
   ]
  },
  {
   "cell_type": "markdown",
   "metadata": {},
   "source": [
    "### Download Zipped ASN Data from Site and store locally"
   ]
  },
  {
   "cell_type": "code",
   "execution_count": 7,
   "metadata": {},
   "outputs": [
    {
     "data": {
      "text/plain": [
       "('/home/jovyan/work/sexyhot/Geolite2/Geolite2_ASN_CSV_downloaded.zip',\n",
       " <http.client.HTTPMessage at 0x7f99a243ef98>)"
      ]
     },
     "execution_count": 7,
     "metadata": {},
     "output_type": "execute_result"
    }
   ],
   "source": [
    "url_ASN='https://geolite.maxmind.com/download/geoip/database/GeoLite2-ASN-CSV.zip'\n",
    "urllib.request.urlretrieve(url_ASN, path +\"Geolite2_ASN_CSV_downloaded.zip\")"
   ]
  },
  {
   "cell_type": "code",
   "execution_count": 8,
   "metadata": {},
   "outputs": [],
   "source": [
    "from zipfile import ZipFile\n",
    "import urllib.request"
   ]
  },
  {
   "cell_type": "code",
   "execution_count": 9,
   "metadata": {},
   "outputs": [
    {
     "data": {
      "text/plain": [
       "['GeoLite2-ASN-Blocks-IPv4.csv',\n",
       " 'GeoLite2-ASN-Blocks-IPv6.csv',\n",
       " 'GeoLite2-City-Blocks-IPv4.csv',\n",
       " 'GeoLite2-City-Blocks-IPv6.csv',\n",
       " 'GeoLite2-City-Locations-pt-BR.csv',\n",
       " 'GeoLite2-City.mmdb',\n",
       " 'GeoLite2-City_20190730.tar.gz',\n",
       " 'GeoLite2-Country-Blocks-IPv4.csv',\n",
       " 'GeoLite2-Country-Blocks-IPv6.csv',\n",
       " 'GeoLite2-Country-Locations-pt-BR.csv',\n",
       " 'Geolite2_ASN_CSV_downloaded.zip',\n",
       " 'Geolite2_City_CSV_downloaded.zip',\n",
       " 'Geolite2_Country_CSV_downloaded.zip']"
      ]
     },
     "execution_count": 9,
     "metadata": {},
     "output_type": "execute_result"
    }
   ],
   "source": [
    "os.listdir(path)"
   ]
  },
  {
   "cell_type": "markdown",
   "metadata": {},
   "source": [
    "### Creates zip_file object for City, Country and ASN Data"
   ]
  },
  {
   "cell_type": "code",
   "execution_count": 10,
   "metadata": {},
   "outputs": [],
   "source": [
    "zip_file = ZipFile(path+\"Geolite2_City_CSV_downloaded.zip\")"
   ]
  },
  {
   "cell_type": "code",
   "execution_count": 11,
   "metadata": {},
   "outputs": [],
   "source": [
    "zip_file_country = ZipFile(path+\"Geolite2_Country_CSV_downloaded.zip\")"
   ]
  },
  {
   "cell_type": "code",
   "execution_count": 12,
   "metadata": {},
   "outputs": [],
   "source": [
    "zip_file_ASN = ZipFile(path+\"Geolite2_ASN_CSV_downloaded.zip\")"
   ]
  },
  {
   "cell_type": "markdown",
   "metadata": {},
   "source": [
    "### List names of files inside the zip files just downloaded"
   ]
  },
  {
   "cell_type": "code",
   "execution_count": 13,
   "metadata": {},
   "outputs": [
    {
     "name": "stdout",
     "output_type": "stream",
     "text": [
      "['GeoLite2-City-CSV_20190806/GeoLite2-City-Locations-zh-CN.csv', 'GeoLite2-City-CSV_20190806/LICENSE.txt', 'GeoLite2-City-CSV_20190806/GeoLite2-City-Blocks-IPv6.csv', 'GeoLite2-City-CSV_20190806/GeoLite2-City-Locations-en.csv', 'GeoLite2-City-CSV_20190806/GeoLite2-City-Locations-ru.csv', 'GeoLite2-City-CSV_20190806/GeoLite2-City-Blocks-IPv4.csv', 'GeoLite2-City-CSV_20190806/COPYRIGHT.txt', 'GeoLite2-City-CSV_20190806/GeoLite2-City-Locations-ja.csv', 'GeoLite2-City-CSV_20190806/GeoLite2-City-Locations-es.csv', 'GeoLite2-City-CSV_20190806/README.txt', 'GeoLite2-City-CSV_20190806/GeoLite2-City-Locations-pt-BR.csv', 'GeoLite2-City-CSV_20190806/GeoLite2-City-Locations-de.csv', 'GeoLite2-City-CSV_20190806/GeoLite2-City-Locations-fr.csv']\n"
     ]
    }
   ],
   "source": [
    "print(zip_file.namelist())"
   ]
  },
  {
   "cell_type": "code",
   "execution_count": 14,
   "metadata": {},
   "outputs": [
    {
     "name": "stdout",
     "output_type": "stream",
     "text": [
      "['GeoLite2-Country-CSV_20190806/GeoLite2-Country-Locations-ja.csv', 'GeoLite2-Country-CSV_20190806/GeoLite2-Country-Locations-pt-BR.csv', 'GeoLite2-Country-CSV_20190806/LICENSE.txt', 'GeoLite2-Country-CSV_20190806/GeoLite2-Country-Locations-en.csv', 'GeoLite2-Country-CSV_20190806/GeoLite2-Country-Blocks-IPv4.csv', 'GeoLite2-Country-CSV_20190806/GeoLite2-Country-Locations-es.csv', 'GeoLite2-Country-CSV_20190806/GeoLite2-Country-Locations-zh-CN.csv', 'GeoLite2-Country-CSV_20190806/GeoLite2-Country-Locations-fr.csv', 'GeoLite2-Country-CSV_20190806/GeoLite2-Country-Blocks-IPv6.csv', 'GeoLite2-Country-CSV_20190806/COPYRIGHT.txt', 'GeoLite2-Country-CSV_20190806/GeoLite2-Country-Locations-de.csv', 'GeoLite2-Country-CSV_20190806/GeoLite2-Country-Locations-ru.csv', 'GeoLite2-Country-CSV_20190806/README.txt']\n"
     ]
    }
   ],
   "source": [
    "print(zip_file_country.namelist())"
   ]
  },
  {
   "cell_type": "code",
   "execution_count": 15,
   "metadata": {},
   "outputs": [
    {
     "name": "stdout",
     "output_type": "stream",
     "text": [
      "['GeoLite2-ASN-CSV_20190806/LICENSE.txt', 'GeoLite2-ASN-CSV_20190806/GeoLite2-ASN-Blocks-IPv6.csv', 'GeoLite2-ASN-CSV_20190806/GeoLite2-ASN-Blocks-IPv4.csv', 'GeoLite2-ASN-CSV_20190806/COPYRIGHT.txt']\n"
     ]
    }
   ],
   "source": [
    "print(zip_file_ASN.namelist())"
   ]
  },
  {
   "cell_type": "markdown",
   "metadata": {},
   "source": [
    "### Reads all ASN Ipv4 addresses"
   ]
  },
  {
   "cell_type": "code",
   "execution_count": 16,
   "metadata": {},
   "outputs": [],
   "source": [
    "#df_ASN_Ipv4 = pd.read_csv(path+'GeoLite2-ASN-Blocks-IPv4.csv', sep = ',', encoding = \"ISO-8859-1\")\n",
    "#df_ASN_Ipv4 = pd.read_csv(zip_file_ASN.open('GeoLite2-ASN-CSV_20190806/GeoLite2-ASN-Blocks-IPv4.csv'))\n",
    "\n",
    "#df_ASN_Ipv4.head()"
   ]
  },
  {
   "cell_type": "markdown",
   "metadata": {},
   "source": [
    "### Reads all ASN Ipv6 addresses"
   ]
  },
  {
   "cell_type": "code",
   "execution_count": 17,
   "metadata": {},
   "outputs": [],
   "source": [
    "#df_ASN_Ipv6 = pd.read_csv(path+'GeoLite2-ASN-Blocks-IPv6.csv', sep = ',', encoding = \"ISO-8859-1\")\n",
    "\n",
    "#df_ASN_Ipv6 = pd.read_csv(zip_file_ASN.open('GeoLite2-ASN-CSV_20190806/GeoLite2-ASN-Blocks-IPv6.csv'))\n",
    "\n",
    "#df_ASN_Ipv6.head()"
   ]
  },
  {
   "cell_type": "markdown",
   "metadata": {},
   "source": [
    "### Reads City-Blocks Ipv4 addresses"
   ]
  },
  {
   "cell_type": "code",
   "execution_count": 18,
   "metadata": {},
   "outputs": [],
   "source": [
    "df_City_Ipv4 = pd.read_csv(zip_file.open('GeoLite2-City-CSV_20190806/GeoLite2-City-Blocks-IPv4.csv'), sep = ',', encoding = \"ISO-8859-1\") \n",
    "#df_City_Ipv4 = pd.read_csv(path+'GeoLite2-City-Blocks-IPv4.csv', sep = ',', encoding = \"ISO-8859-1\")"
   ]
  },
  {
   "cell_type": "code",
   "execution_count": 19,
   "metadata": {},
   "outputs": [
    {
     "data": {
      "text/html": [
       "<div>\n",
       "<style scoped>\n",
       "    .dataframe tbody tr th:only-of-type {\n",
       "        vertical-align: middle;\n",
       "    }\n",
       "\n",
       "    .dataframe tbody tr th {\n",
       "        vertical-align: top;\n",
       "    }\n",
       "\n",
       "    .dataframe thead th {\n",
       "        text-align: right;\n",
       "    }\n",
       "</style>\n",
       "<table border=\"1\" class=\"dataframe\">\n",
       "  <thead>\n",
       "    <tr style=\"text-align: right;\">\n",
       "      <th></th>\n",
       "      <th>network</th>\n",
       "      <th>geoname_id</th>\n",
       "      <th>registered_country_geoname_id</th>\n",
       "      <th>represented_country_geoname_id</th>\n",
       "      <th>is_anonymous_proxy</th>\n",
       "      <th>is_satellite_provider</th>\n",
       "      <th>postal_code</th>\n",
       "      <th>latitude</th>\n",
       "      <th>longitude</th>\n",
       "      <th>accuracy_radius</th>\n",
       "    </tr>\n",
       "  </thead>\n",
       "  <tbody>\n",
       "    <tr>\n",
       "      <th>0</th>\n",
       "      <td>1.0.0.0/24</td>\n",
       "      <td>8349238.0</td>\n",
       "      <td>2077456.0</td>\n",
       "      <td>NaN</td>\n",
       "      <td>0</td>\n",
       "      <td>0</td>\n",
       "      <td>5107</td>\n",
       "      <td>-34.7825</td>\n",
       "      <td>138.6106</td>\n",
       "      <td>50.0</td>\n",
       "    </tr>\n",
       "    <tr>\n",
       "      <th>1</th>\n",
       "      <td>1.0.1.0/24</td>\n",
       "      <td>1811017.0</td>\n",
       "      <td>1814991.0</td>\n",
       "      <td>NaN</td>\n",
       "      <td>0</td>\n",
       "      <td>0</td>\n",
       "      <td>NaN</td>\n",
       "      <td>24.4798</td>\n",
       "      <td>118.0819</td>\n",
       "      <td>50.0</td>\n",
       "    </tr>\n",
       "    <tr>\n",
       "      <th>2</th>\n",
       "      <td>1.0.2.0/23</td>\n",
       "      <td>1811017.0</td>\n",
       "      <td>1814991.0</td>\n",
       "      <td>NaN</td>\n",
       "      <td>0</td>\n",
       "      <td>0</td>\n",
       "      <td>NaN</td>\n",
       "      <td>24.4798</td>\n",
       "      <td>118.0819</td>\n",
       "      <td>50.0</td>\n",
       "    </tr>\n",
       "    <tr>\n",
       "      <th>3</th>\n",
       "      <td>1.0.4.0/22</td>\n",
       "      <td>2077456.0</td>\n",
       "      <td>2077456.0</td>\n",
       "      <td>NaN</td>\n",
       "      <td>0</td>\n",
       "      <td>0</td>\n",
       "      <td>NaN</td>\n",
       "      <td>-33.4940</td>\n",
       "      <td>143.2104</td>\n",
       "      <td>1000.0</td>\n",
       "    </tr>\n",
       "    <tr>\n",
       "      <th>4</th>\n",
       "      <td>1.0.8.0/21</td>\n",
       "      <td>1809935.0</td>\n",
       "      <td>1814991.0</td>\n",
       "      <td>NaN</td>\n",
       "      <td>0</td>\n",
       "      <td>0</td>\n",
       "      <td>NaN</td>\n",
       "      <td>23.1167</td>\n",
       "      <td>113.2500</td>\n",
       "      <td>50.0</td>\n",
       "    </tr>\n",
       "  </tbody>\n",
       "</table>\n",
       "</div>"
      ],
      "text/plain": [
       "      network  geoname_id  registered_country_geoname_id  \\\n",
       "0  1.0.0.0/24   8349238.0                      2077456.0   \n",
       "1  1.0.1.0/24   1811017.0                      1814991.0   \n",
       "2  1.0.2.0/23   1811017.0                      1814991.0   \n",
       "3  1.0.4.0/22   2077456.0                      2077456.0   \n",
       "4  1.0.8.0/21   1809935.0                      1814991.0   \n",
       "\n",
       "   represented_country_geoname_id  is_anonymous_proxy  is_satellite_provider  \\\n",
       "0                             NaN                   0                      0   \n",
       "1                             NaN                   0                      0   \n",
       "2                             NaN                   0                      0   \n",
       "3                             NaN                   0                      0   \n",
       "4                             NaN                   0                      0   \n",
       "\n",
       "  postal_code  latitude  longitude  accuracy_radius  \n",
       "0        5107  -34.7825   138.6106             50.0  \n",
       "1         NaN   24.4798   118.0819             50.0  \n",
       "2         NaN   24.4798   118.0819             50.0  \n",
       "3         NaN  -33.4940   143.2104           1000.0  \n",
       "4         NaN   23.1167   113.2500             50.0  "
      ]
     },
     "execution_count": 19,
     "metadata": {},
     "output_type": "execute_result"
    }
   ],
   "source": [
    "df_City_Ipv4.head()"
   ]
  },
  {
   "cell_type": "markdown",
   "metadata": {},
   "source": [
    "### Reads City-Blocks Ipv6 addresses"
   ]
  },
  {
   "cell_type": "code",
   "execution_count": 20,
   "metadata": {},
   "outputs": [],
   "source": [
    "#df_City_Ipv6 = pd.read_csv(zip_file.open('GeoLite2-City-CSV_20190806/GeoLite2-City-Blocks-IPv6.csv'), sep = ',', encoding = \"ISO-8859-1\") \n",
    "#df_City_Ipv6 = pd.read_csv(path+'GeoLite2-City-Blocks-IPv6.csv', sep = ',', encoding = \"ISO-8859-1\")\n",
    "\n",
    "#df_City_Ipv6.head()"
   ]
  },
  {
   "cell_type": "markdown",
   "metadata": {},
   "source": [
    "### Reads City Location and chages the encoding"
   ]
  },
  {
   "cell_type": "code",
   "execution_count": 21,
   "metadata": {},
   "outputs": [],
   "source": [
    "df_City_Locations = pd.read_csv(zip_file.open('GeoLite2-City-CSV_20190806/GeoLite2-City-Locations-pt-BR.csv'), sep = ',', encoding = \"utf-8\")\n",
    "#df_City_Locations = pd.read_csv(path+'GeoLite2-City-Locations-pt-BR.csv', sep = ',', encoding = \"utf-8\")"
   ]
  },
  {
   "cell_type": "code",
   "execution_count": 22,
   "metadata": {},
   "outputs": [
    {
     "data": {
      "text/html": [
       "<div>\n",
       "<style scoped>\n",
       "    .dataframe tbody tr th:only-of-type {\n",
       "        vertical-align: middle;\n",
       "    }\n",
       "\n",
       "    .dataframe tbody tr th {\n",
       "        vertical-align: top;\n",
       "    }\n",
       "\n",
       "    .dataframe thead th {\n",
       "        text-align: right;\n",
       "    }\n",
       "</style>\n",
       "<table border=\"1\" class=\"dataframe\">\n",
       "  <thead>\n",
       "    <tr style=\"text-align: right;\">\n",
       "      <th></th>\n",
       "      <th>geoname_id</th>\n",
       "      <th>locale_code</th>\n",
       "      <th>continent_code</th>\n",
       "      <th>continent_name</th>\n",
       "      <th>country_iso_code</th>\n",
       "      <th>country_name</th>\n",
       "      <th>subdivision_1_iso_code</th>\n",
       "      <th>subdivision_1_name</th>\n",
       "      <th>subdivision_2_iso_code</th>\n",
       "      <th>subdivision_2_name</th>\n",
       "      <th>city_name</th>\n",
       "      <th>metro_code</th>\n",
       "      <th>time_zone</th>\n",
       "      <th>is_in_european_union</th>\n",
       "    </tr>\n",
       "  </thead>\n",
       "  <tbody>\n",
       "    <tr>\n",
       "      <th>0</th>\n",
       "      <td>49518</td>\n",
       "      <td>pt-BR</td>\n",
       "      <td>AF</td>\n",
       "      <td>África</td>\n",
       "      <td>RW</td>\n",
       "      <td>Ruanda</td>\n",
       "      <td>NaN</td>\n",
       "      <td>NaN</td>\n",
       "      <td>NaN</td>\n",
       "      <td>NaN</td>\n",
       "      <td>NaN</td>\n",
       "      <td>NaN</td>\n",
       "      <td>Africa/Kigali</td>\n",
       "      <td>0</td>\n",
       "    </tr>\n",
       "    <tr>\n",
       "      <th>1</th>\n",
       "      <td>49747</td>\n",
       "      <td>pt-BR</td>\n",
       "      <td>AF</td>\n",
       "      <td>África</td>\n",
       "      <td>SO</td>\n",
       "      <td>Somália</td>\n",
       "      <td>BK</td>\n",
       "      <td>NaN</td>\n",
       "      <td>NaN</td>\n",
       "      <td>NaN</td>\n",
       "      <td>NaN</td>\n",
       "      <td>NaN</td>\n",
       "      <td>Africa/Mogadishu</td>\n",
       "      <td>0</td>\n",
       "    </tr>\n",
       "    <tr>\n",
       "      <th>2</th>\n",
       "      <td>51537</td>\n",
       "      <td>pt-BR</td>\n",
       "      <td>AF</td>\n",
       "      <td>África</td>\n",
       "      <td>SO</td>\n",
       "      <td>Somália</td>\n",
       "      <td>NaN</td>\n",
       "      <td>NaN</td>\n",
       "      <td>NaN</td>\n",
       "      <td>NaN</td>\n",
       "      <td>NaN</td>\n",
       "      <td>NaN</td>\n",
       "      <td>Africa/Mogadishu</td>\n",
       "      <td>0</td>\n",
       "    </tr>\n",
       "    <tr>\n",
       "      <th>3</th>\n",
       "      <td>53654</td>\n",
       "      <td>pt-BR</td>\n",
       "      <td>AF</td>\n",
       "      <td>África</td>\n",
       "      <td>SO</td>\n",
       "      <td>Somália</td>\n",
       "      <td>BN</td>\n",
       "      <td>NaN</td>\n",
       "      <td>NaN</td>\n",
       "      <td>NaN</td>\n",
       "      <td>Mogadíscio</td>\n",
       "      <td>NaN</td>\n",
       "      <td>Africa/Mogadishu</td>\n",
       "      <td>0</td>\n",
       "    </tr>\n",
       "    <tr>\n",
       "      <th>4</th>\n",
       "      <td>54225</td>\n",
       "      <td>pt-BR</td>\n",
       "      <td>AF</td>\n",
       "      <td>África</td>\n",
       "      <td>SO</td>\n",
       "      <td>Somália</td>\n",
       "      <td>SH</td>\n",
       "      <td>NaN</td>\n",
       "      <td>NaN</td>\n",
       "      <td>NaN</td>\n",
       "      <td>NaN</td>\n",
       "      <td>NaN</td>\n",
       "      <td>Africa/Mogadishu</td>\n",
       "      <td>0</td>\n",
       "    </tr>\n",
       "  </tbody>\n",
       "</table>\n",
       "</div>"
      ],
      "text/plain": [
       "   geoname_id locale_code continent_code continent_name country_iso_code  \\\n",
       "0       49518       pt-BR             AF         África               RW   \n",
       "1       49747       pt-BR             AF         África               SO   \n",
       "2       51537       pt-BR             AF         África               SO   \n",
       "3       53654       pt-BR             AF         África               SO   \n",
       "4       54225       pt-BR             AF         África               SO   \n",
       "\n",
       "  country_name subdivision_1_iso_code subdivision_1_name  \\\n",
       "0       Ruanda                    NaN                NaN   \n",
       "1      Somália                     BK                NaN   \n",
       "2      Somália                    NaN                NaN   \n",
       "3      Somália                     BN                NaN   \n",
       "4      Somália                     SH                NaN   \n",
       "\n",
       "  subdivision_2_iso_code subdivision_2_name   city_name  metro_code  \\\n",
       "0                    NaN                NaN         NaN         NaN   \n",
       "1                    NaN                NaN         NaN         NaN   \n",
       "2                    NaN                NaN         NaN         NaN   \n",
       "3                    NaN                NaN  Mogadíscio         NaN   \n",
       "4                    NaN                NaN         NaN         NaN   \n",
       "\n",
       "          time_zone  is_in_european_union  \n",
       "0     Africa/Kigali                     0  \n",
       "1  Africa/Mogadishu                     0  \n",
       "2  Africa/Mogadishu                     0  \n",
       "3  Africa/Mogadishu                     0  \n",
       "4  Africa/Mogadishu                     0  "
      ]
     },
     "execution_count": 22,
     "metadata": {},
     "output_type": "execute_result"
    }
   ],
   "source": [
    "df_City_Locations.head()"
   ]
  },
  {
   "cell_type": "markdown",
   "metadata": {},
   "source": [
    "### Reads Country Blocks Ipv4"
   ]
  },
  {
   "cell_type": "code",
   "execution_count": 23,
   "metadata": {},
   "outputs": [],
   "source": [
    "df_Country_Ipv4 = pd.read_csv(zip_file_country.open('GeoLite2-Country-CSV_20190806/GeoLite2-Country-Blocks-IPv4.csv'), sep = ',', encoding = \"ISO-8859-1\")\n",
    "#df_Country_Ipv4 = pd.read_csv(path+'GeoLite2-Country-Blocks-IPv4.csv', sep = ',', encoding = \"ISO-8859-1\")"
   ]
  },
  {
   "cell_type": "code",
   "execution_count": 24,
   "metadata": {},
   "outputs": [
    {
     "data": {
      "text/html": [
       "<div>\n",
       "<style scoped>\n",
       "    .dataframe tbody tr th:only-of-type {\n",
       "        vertical-align: middle;\n",
       "    }\n",
       "\n",
       "    .dataframe tbody tr th {\n",
       "        vertical-align: top;\n",
       "    }\n",
       "\n",
       "    .dataframe thead th {\n",
       "        text-align: right;\n",
       "    }\n",
       "</style>\n",
       "<table border=\"1\" class=\"dataframe\">\n",
       "  <thead>\n",
       "    <tr style=\"text-align: right;\">\n",
       "      <th></th>\n",
       "      <th>network</th>\n",
       "      <th>geoname_id</th>\n",
       "      <th>registered_country_geoname_id</th>\n",
       "      <th>represented_country_geoname_id</th>\n",
       "      <th>is_anonymous_proxy</th>\n",
       "      <th>is_satellite_provider</th>\n",
       "    </tr>\n",
       "  </thead>\n",
       "  <tbody>\n",
       "    <tr>\n",
       "      <th>331691</th>\n",
       "      <td>223.255.244.0/22</td>\n",
       "      <td>1269750.0</td>\n",
       "      <td>1269750.0</td>\n",
       "      <td>NaN</td>\n",
       "      <td>0</td>\n",
       "      <td>0</td>\n",
       "    </tr>\n",
       "    <tr>\n",
       "      <th>331692</th>\n",
       "      <td>223.255.248.0/22</td>\n",
       "      <td>1819730.0</td>\n",
       "      <td>1819730.0</td>\n",
       "      <td>NaN</td>\n",
       "      <td>0</td>\n",
       "      <td>0</td>\n",
       "    </tr>\n",
       "    <tr>\n",
       "      <th>331693</th>\n",
       "      <td>223.255.252.0/23</td>\n",
       "      <td>1814991.0</td>\n",
       "      <td>1814991.0</td>\n",
       "      <td>NaN</td>\n",
       "      <td>0</td>\n",
       "      <td>0</td>\n",
       "    </tr>\n",
       "    <tr>\n",
       "      <th>331694</th>\n",
       "      <td>223.255.254.0/24</td>\n",
       "      <td>1880251.0</td>\n",
       "      <td>1880251.0</td>\n",
       "      <td>NaN</td>\n",
       "      <td>0</td>\n",
       "      <td>0</td>\n",
       "    </tr>\n",
       "    <tr>\n",
       "      <th>331695</th>\n",
       "      <td>223.255.255.0/24</td>\n",
       "      <td>2077456.0</td>\n",
       "      <td>2077456.0</td>\n",
       "      <td>NaN</td>\n",
       "      <td>0</td>\n",
       "      <td>0</td>\n",
       "    </tr>\n",
       "  </tbody>\n",
       "</table>\n",
       "</div>"
      ],
      "text/plain": [
       "                 network  geoname_id  registered_country_geoname_id  \\\n",
       "331691  223.255.244.0/22   1269750.0                      1269750.0   \n",
       "331692  223.255.248.0/22   1819730.0                      1819730.0   \n",
       "331693  223.255.252.0/23   1814991.0                      1814991.0   \n",
       "331694  223.255.254.0/24   1880251.0                      1880251.0   \n",
       "331695  223.255.255.0/24   2077456.0                      2077456.0   \n",
       "\n",
       "        represented_country_geoname_id  is_anonymous_proxy  \\\n",
       "331691                             NaN                   0   \n",
       "331692                             NaN                   0   \n",
       "331693                             NaN                   0   \n",
       "331694                             NaN                   0   \n",
       "331695                             NaN                   0   \n",
       "\n",
       "        is_satellite_provider  \n",
       "331691                      0  \n",
       "331692                      0  \n",
       "331693                      0  \n",
       "331694                      0  \n",
       "331695                      0  "
      ]
     },
     "execution_count": 24,
     "metadata": {},
     "output_type": "execute_result"
    }
   ],
   "source": [
    "df_Country_Ipv4.tail()"
   ]
  },
  {
   "cell_type": "markdown",
   "metadata": {},
   "source": [
    "### Reads Country Blocks Ipv6"
   ]
  },
  {
   "cell_type": "code",
   "execution_count": 25,
   "metadata": {},
   "outputs": [],
   "source": [
    "#df_Country_Ipv6 = pd.read_csv(zip_file_country.open('GeoLite2-Country-CSV_20190806/GeoLite2-Country-Blocks-IPv6.csv'), sep = ',', encoding = \"ISO-8859-1\")\n",
    "#df_Country_Ipv6 = pd.read_csv(path+'GeoLite2-Country-Blocks-IPv6.csv', sep = ',', encoding = \"ISO-8859-1\")\n",
    "\n",
    "#df_Country_Ipv6.tail()"
   ]
  },
  {
   "cell_type": "markdown",
   "metadata": {},
   "source": [
    "### Reads country location data, changing encoding to read data correctly"
   ]
  },
  {
   "cell_type": "code",
   "execution_count": 26,
   "metadata": {},
   "outputs": [],
   "source": [
    "df_Country_Location = pd.read_csv(zip_file_country.open('GeoLite2-Country-CSV_20190806/GeoLite2-Country-Locations-pt-BR.csv'), sep = ',', encoding = \"utf-8\")\n",
    "#df_Country_Location = pd.read_csv(path+'GeoLite2-Country-Locations-pt-BR.csv', sep = ',', encoding = \"utf-8\")"
   ]
  },
  {
   "cell_type": "code",
   "execution_count": 27,
   "metadata": {},
   "outputs": [
    {
     "data": {
      "text/html": [
       "<div>\n",
       "<style scoped>\n",
       "    .dataframe tbody tr th:only-of-type {\n",
       "        vertical-align: middle;\n",
       "    }\n",
       "\n",
       "    .dataframe tbody tr th {\n",
       "        vertical-align: top;\n",
       "    }\n",
       "\n",
       "    .dataframe thead th {\n",
       "        text-align: right;\n",
       "    }\n",
       "</style>\n",
       "<table border=\"1\" class=\"dataframe\">\n",
       "  <thead>\n",
       "    <tr style=\"text-align: right;\">\n",
       "      <th></th>\n",
       "      <th>geoname_id</th>\n",
       "      <th>locale_code</th>\n",
       "      <th>continent_code</th>\n",
       "      <th>continent_name</th>\n",
       "      <th>country_iso_code</th>\n",
       "      <th>country_name</th>\n",
       "      <th>is_in_european_union</th>\n",
       "    </tr>\n",
       "  </thead>\n",
       "  <tbody>\n",
       "    <tr>\n",
       "      <th>0</th>\n",
       "      <td>49518</td>\n",
       "      <td>pt-BR</td>\n",
       "      <td>AF</td>\n",
       "      <td>África</td>\n",
       "      <td>RW</td>\n",
       "      <td>Ruanda</td>\n",
       "      <td>0</td>\n",
       "    </tr>\n",
       "    <tr>\n",
       "      <th>1</th>\n",
       "      <td>51537</td>\n",
       "      <td>pt-BR</td>\n",
       "      <td>AF</td>\n",
       "      <td>África</td>\n",
       "      <td>SO</td>\n",
       "      <td>Somália</td>\n",
       "      <td>0</td>\n",
       "    </tr>\n",
       "    <tr>\n",
       "      <th>2</th>\n",
       "      <td>69543</td>\n",
       "      <td>pt-BR</td>\n",
       "      <td>AS</td>\n",
       "      <td>Ásia</td>\n",
       "      <td>YE</td>\n",
       "      <td>Iêmen</td>\n",
       "      <td>0</td>\n",
       "    </tr>\n",
       "    <tr>\n",
       "      <th>3</th>\n",
       "      <td>99237</td>\n",
       "      <td>pt-BR</td>\n",
       "      <td>AS</td>\n",
       "      <td>Ásia</td>\n",
       "      <td>IQ</td>\n",
       "      <td>Iraque</td>\n",
       "      <td>0</td>\n",
       "    </tr>\n",
       "    <tr>\n",
       "      <th>4</th>\n",
       "      <td>102358</td>\n",
       "      <td>pt-BR</td>\n",
       "      <td>AS</td>\n",
       "      <td>Ásia</td>\n",
       "      <td>SA</td>\n",
       "      <td>Arábia Saudita</td>\n",
       "      <td>0</td>\n",
       "    </tr>\n",
       "  </tbody>\n",
       "</table>\n",
       "</div>"
      ],
      "text/plain": [
       "   geoname_id locale_code continent_code continent_name country_iso_code  \\\n",
       "0       49518       pt-BR             AF         África               RW   \n",
       "1       51537       pt-BR             AF         África               SO   \n",
       "2       69543       pt-BR             AS           Ásia               YE   \n",
       "3       99237       pt-BR             AS           Ásia               IQ   \n",
       "4      102358       pt-BR             AS           Ásia               SA   \n",
       "\n",
       "     country_name  is_in_european_union  \n",
       "0          Ruanda                     0  \n",
       "1         Somália                     0  \n",
       "2           Iêmen                     0  \n",
       "3          Iraque                     0  \n",
       "4  Arábia Saudita                     0  "
      ]
     },
     "execution_count": 27,
     "metadata": {},
     "output_type": "execute_result"
    }
   ],
   "source": [
    "df_Country_Location.head()"
   ]
  },
  {
   "cell_type": "code",
   "execution_count": 28,
   "metadata": {},
   "outputs": [
    {
     "name": "stdout",
     "output_type": "stream",
     "text": [
      "Variable              Type         Data/Info\n",
      "--------------------------------------------\n",
      "ZipFile               type         <class 'zipfile.ZipFile'>\n",
      "datetime              type         <class 'datetime.datetime'>\n",
      "df_City_Ipv4          DataFrame                        netwo<...>191167 rows x 10 columns]\n",
      "df_City_Locations     DataFrame            geoname_id locale<...>117289 rows x 14 columns]\n",
      "df_Country_Ipv4       DataFrame                       networ<...>[331696 rows x 6 columns]\n",
      "df_Country_Location   DataFrame         geoname_id locale_co<...>n\\n[252 rows x 7 columns]\n",
      "np                    module       <module 'numpy' from '/op<...>kages/numpy/__init__.py'>\n",
      "os                    module       <module 'os' from '/opt/c<...>nda/lib/python3.7/os.py'>\n",
      "path                  str          /home/jovyan/work/sexyhot/Geolite2/\n",
      "pd                    module       <module 'pandas' from '/o<...>ages/pandas/__init__.py'>\n",
      "plt                   module       <module 'matplotlib.pyplo<...>es/matplotlib/pyplot.py'>\n",
      "sns                   module       <module 'seaborn' from '/<...>ges/seaborn/__init__.py'>\n",
      "url                   str          https://geolite.maxmind.c<...>ase/GeoLite2-City-CSV.zip\n",
      "url_ASN               str          https://geolite.maxmind.c<...>base/GeoLite2-ASN-CSV.zip\n",
      "url_country           str          https://geolite.maxmind.c<...>/GeoLite2-Country-CSV.zip\n",
      "urllib                module       <module 'urllib' from '/o<...>n3.7/urllib/__init__.py'>\n",
      "zip_file              ZipFile      <zipfile.ZipFile filename<...>downloaded.zip' mode='r'>\n",
      "zip_file_ASN          ZipFile      <zipfile.ZipFile filename<...>downloaded.zip' mode='r'>\n",
      "zip_file_country      ZipFile      <zipfile.ZipFile filename<...>downloaded.zip' mode='r'>\n"
     ]
    }
   ],
   "source": [
    "%whos"
   ]
  },
  {
   "cell_type": "code",
   "execution_count": 29,
   "metadata": {},
   "outputs": [
    {
     "name": "stdout",
     "output_type": "stream",
     "text": [
      "<class 'pandas.core.frame.DataFrame'>\n",
      "RangeIndex: 3191167 entries, 0 to 3191166\n",
      "Data columns (total 10 columns):\n",
      "network                           object\n",
      "geoname_id                        float64\n",
      "registered_country_geoname_id     float64\n",
      "represented_country_geoname_id    float64\n",
      "is_anonymous_proxy                int64\n",
      "is_satellite_provider             int64\n",
      "postal_code                       object\n",
      "latitude                          float64\n",
      "longitude                         float64\n",
      "accuracy_radius                   float64\n",
      "dtypes: float64(6), int64(2), object(2)\n",
      "memory usage: 243.5+ MB\n"
     ]
    }
   ],
   "source": [
    "df_City_Ipv4.info()"
   ]
  },
  {
   "cell_type": "code",
   "execution_count": 30,
   "metadata": {},
   "outputs": [],
   "source": [
    "#df_ASN_Ipv4.info()"
   ]
  },
  {
   "cell_type": "code",
   "execution_count": 31,
   "metadata": {},
   "outputs": [],
   "source": [
    "### Merge ASN and City\n",
    "#df_Ipv4 = pd.merge(df_ASN_Ipv4, df_City_Ipv4, how = 'left', on = 'network')\n",
    "#df_Ipv4.head(15)\n",
    "\n",
    "#df_Ipv4.info()\n",
    "\n",
    "### Count number of non-null rows in df_Ipv4 before final merge"
   ]
  },
  {
   "cell_type": "code",
   "execution_count": 32,
   "metadata": {},
   "outputs": [],
   "source": [
    "#df_Ipv4[df_Ipv4.notnull()].count() "
   ]
  },
  {
   "cell_type": "code",
   "execution_count": 33,
   "metadata": {},
   "outputs": [
    {
     "name": "stdout",
     "output_type": "stream",
     "text": [
      "<class 'pandas.core.frame.DataFrame'>\n",
      "RangeIndex: 331696 entries, 0 to 331695\n",
      "Data columns (total 6 columns):\n",
      "network                           331696 non-null object\n",
      "geoname_id                        329960 non-null float64\n",
      "registered_country_geoname_id     319818 non-null float64\n",
      "represented_country_geoname_id    279 non-null float64\n",
      "is_anonymous_proxy                331696 non-null int64\n",
      "is_satellite_provider             331696 non-null int64\n",
      "dtypes: float64(3), int64(2), object(1)\n",
      "memory usage: 15.2+ MB\n"
     ]
    }
   ],
   "source": [
    "df_Country_Ipv4.info()"
   ]
  },
  {
   "cell_type": "code",
   "execution_count": 34,
   "metadata": {},
   "outputs": [
    {
     "name": "stdout",
     "output_type": "stream",
     "text": [
      "<class 'pandas.core.frame.DataFrame'>\n",
      "RangeIndex: 117289 entries, 0 to 117288\n",
      "Data columns (total 14 columns):\n",
      "geoname_id                117289 non-null int64\n",
      "locale_code               117289 non-null object\n",
      "continent_code            91239 non-null object\n",
      "continent_name            117289 non-null object\n",
      "country_iso_code          117261 non-null object\n",
      "country_name              117287 non-null object\n",
      "subdivision_1_iso_code    116529 non-null object\n",
      "subdivision_1_name        56599 non-null object\n",
      "subdivision_2_iso_code    37518 non-null object\n",
      "subdivision_2_name        8889 non-null object\n",
      "city_name                 8533 non-null object\n",
      "metro_code                20705 non-null float64\n",
      "time_zone                 117289 non-null object\n",
      "is_in_european_union      117289 non-null int64\n",
      "dtypes: float64(1), int64(2), object(11)\n",
      "memory usage: 12.5+ MB\n"
     ]
    }
   ],
   "source": [
    "df_City_Locations.info()"
   ]
  },
  {
   "cell_type": "markdown",
   "metadata": {},
   "source": [
    "The merge below will not work if the order of the dataframes is reversed, since df_Ipv4.geoname_id has missing values"
   ]
  },
  {
   "cell_type": "code",
   "execution_count": 35,
   "metadata": {},
   "outputs": [],
   "source": [
    "#df_all_Ipv4 = pd.merge(df_City_Locations, df_Ipv4, how = 'left', on = 'geoname_id')"
   ]
  },
  {
   "cell_type": "code",
   "execution_count": 36,
   "metadata": {},
   "outputs": [],
   "source": [
    "#df_all_Ipv4.info()"
   ]
  },
  {
   "cell_type": "markdown",
   "metadata": {},
   "source": [
    "#### Note that the number of rows in df_all_Ipv4 is equal to the count of non_null values in geocode_id. "
   ]
  },
  {
   "cell_type": "code",
   "execution_count": 37,
   "metadata": {},
   "outputs": [],
   "source": [
    "#df_all_Ipv4.sort_values(by=['geoname_id']);"
   ]
  },
  {
   "cell_type": "code",
   "execution_count": 38,
   "metadata": {},
   "outputs": [],
   "source": [
    "#df_all_Ipv4.tail()"
   ]
  },
  {
   "cell_type": "code",
   "execution_count": 39,
   "metadata": {},
   "outputs": [],
   "source": [
    "#df_all_Ipv4.shape"
   ]
  },
  {
   "cell_type": "markdown",
   "metadata": {},
   "source": [
    "### How many rows have information about service provider?"
   ]
  },
  {
   "cell_type": "code",
   "execution_count": 40,
   "metadata": {},
   "outputs": [],
   "source": [
    "#df_all_Ipv4[df_all_Ipv4.autonomous_system_organization.notnull()].shape"
   ]
  },
  {
   "cell_type": "code",
   "execution_count": 41,
   "metadata": {},
   "outputs": [],
   "source": [
    "#df_all_Ipv4[df_all_Ipv4.autonomous_system_organization.notnull()].head()"
   ]
  },
  {
   "cell_type": "code",
   "execution_count": 42,
   "metadata": {},
   "outputs": [],
   "source": [
    "#df_all_Ipv4[df_all_Ipv4.autonomous_system_organization.notnull()].tail()"
   ]
  },
  {
   "cell_type": "markdown",
   "metadata": {},
   "source": [
    "### How many have information about service provider and are located in Brazil?"
   ]
  },
  {
   "cell_type": "code",
   "execution_count": 43,
   "metadata": {},
   "outputs": [],
   "source": [
    "#f_all_Ipv4[(df_all_Ipv4.autonomous_system_organization.notnull()) & (df_all_Ipv4.country_iso_code == 'BR')].shape"
   ]
  },
  {
   "cell_type": "code",
   "execution_count": 44,
   "metadata": {},
   "outputs": [],
   "source": [
    "#df_all_Ipv4[(df_all_Ipv4.autonomous_system_organization.notnull()) & (df_all_Ipv4.country_iso_code == 'BR')].head()"
   ]
  },
  {
   "cell_type": "code",
   "execution_count": 45,
   "metadata": {},
   "outputs": [],
   "source": [
    "#df_all_Ipv4[(df_all_Ipv4.autonomous_system_organization.notnull()) & (df_all_Ipv4.country_iso_code == 'BR')].tail()"
   ]
  },
  {
   "cell_type": "markdown",
   "metadata": {},
   "source": [
    "## We lose a lot of data, so let´s ignore the ASN information when merging"
   ]
  },
  {
   "cell_type": "code",
   "execution_count": 50,
   "metadata": {},
   "outputs": [],
   "source": [
    "df_city_Ipv4  = pd.merge(df_City_Ipv4, df_City_Locations, how = 'left', on = 'geoname_id')"
   ]
  },
  {
   "cell_type": "code",
   "execution_count": 51,
   "metadata": {},
   "outputs": [],
   "source": [
    "# Convert registered_country_geoname_id to integer - the data type below allows NaN in the column\n",
    "df_city_Ipv4.registered_country_geoname_id.astype(pd.Int32Dtype());"
   ]
  },
  {
   "cell_type": "code",
   "execution_count": 52,
   "metadata": {},
   "outputs": [
    {
     "data": {
      "text/html": [
       "<div>\n",
       "<style scoped>\n",
       "    .dataframe tbody tr th:only-of-type {\n",
       "        vertical-align: middle;\n",
       "    }\n",
       "\n",
       "    .dataframe tbody tr th {\n",
       "        vertical-align: top;\n",
       "    }\n",
       "\n",
       "    .dataframe thead th {\n",
       "        text-align: right;\n",
       "    }\n",
       "</style>\n",
       "<table border=\"1\" class=\"dataframe\">\n",
       "  <thead>\n",
       "    <tr style=\"text-align: right;\">\n",
       "      <th></th>\n",
       "      <th>network</th>\n",
       "      <th>geoname_id</th>\n",
       "      <th>registered_country_geoname_id</th>\n",
       "      <th>represented_country_geoname_id</th>\n",
       "      <th>is_anonymous_proxy</th>\n",
       "      <th>is_satellite_provider</th>\n",
       "      <th>postal_code</th>\n",
       "      <th>latitude</th>\n",
       "      <th>longitude</th>\n",
       "      <th>accuracy_radius</th>\n",
       "      <th>...</th>\n",
       "      <th>country_iso_code</th>\n",
       "      <th>country_name</th>\n",
       "      <th>subdivision_1_iso_code</th>\n",
       "      <th>subdivision_1_name</th>\n",
       "      <th>subdivision_2_iso_code</th>\n",
       "      <th>subdivision_2_name</th>\n",
       "      <th>city_name</th>\n",
       "      <th>metro_code</th>\n",
       "      <th>time_zone</th>\n",
       "      <th>is_in_european_union</th>\n",
       "    </tr>\n",
       "  </thead>\n",
       "  <tbody>\n",
       "    <tr>\n",
       "      <th>3191162</th>\n",
       "      <td>223.255.246.0/23</td>\n",
       "      <td>1258847.0</td>\n",
       "      <td>1269750.0</td>\n",
       "      <td>NaN</td>\n",
       "      <td>0</td>\n",
       "      <td>0</td>\n",
       "      <td>360004</td>\n",
       "      <td>22.2916</td>\n",
       "      <td>70.7932</td>\n",
       "      <td>1.0</td>\n",
       "      <td>...</td>\n",
       "      <td>IN</td>\n",
       "      <td>Índia</td>\n",
       "      <td>GJ</td>\n",
       "      <td>Gujarate</td>\n",
       "      <td>NaN</td>\n",
       "      <td>NaN</td>\n",
       "      <td>Rajkot</td>\n",
       "      <td>NaN</td>\n",
       "      <td>Asia/Kolkata</td>\n",
       "      <td>0.0</td>\n",
       "    </tr>\n",
       "    <tr>\n",
       "      <th>3191163</th>\n",
       "      <td>223.255.248.0/22</td>\n",
       "      <td>1819730.0</td>\n",
       "      <td>1819730.0</td>\n",
       "      <td>NaN</td>\n",
       "      <td>0</td>\n",
       "      <td>0</td>\n",
       "      <td>NaN</td>\n",
       "      <td>22.2500</td>\n",
       "      <td>114.1667</td>\n",
       "      <td>50.0</td>\n",
       "      <td>...</td>\n",
       "      <td>HK</td>\n",
       "      <td>Hong Kong</td>\n",
       "      <td>NaN</td>\n",
       "      <td>NaN</td>\n",
       "      <td>NaN</td>\n",
       "      <td>NaN</td>\n",
       "      <td>NaN</td>\n",
       "      <td>NaN</td>\n",
       "      <td>Asia/Hong_Kong</td>\n",
       "      <td>0.0</td>\n",
       "    </tr>\n",
       "    <tr>\n",
       "      <th>3191164</th>\n",
       "      <td>223.255.252.0/23</td>\n",
       "      <td>1814991.0</td>\n",
       "      <td>1814991.0</td>\n",
       "      <td>NaN</td>\n",
       "      <td>0</td>\n",
       "      <td>0</td>\n",
       "      <td>NaN</td>\n",
       "      <td>34.7725</td>\n",
       "      <td>113.7266</td>\n",
       "      <td>50.0</td>\n",
       "      <td>...</td>\n",
       "      <td>CN</td>\n",
       "      <td>China</td>\n",
       "      <td>NaN</td>\n",
       "      <td>NaN</td>\n",
       "      <td>NaN</td>\n",
       "      <td>NaN</td>\n",
       "      <td>NaN</td>\n",
       "      <td>NaN</td>\n",
       "      <td>Asia/Shanghai</td>\n",
       "      <td>0.0</td>\n",
       "    </tr>\n",
       "    <tr>\n",
       "      <th>3191165</th>\n",
       "      <td>223.255.254.0/24</td>\n",
       "      <td>1880252.0</td>\n",
       "      <td>1880251.0</td>\n",
       "      <td>NaN</td>\n",
       "      <td>0</td>\n",
       "      <td>0</td>\n",
       "      <td>14</td>\n",
       "      <td>1.2967</td>\n",
       "      <td>103.8037</td>\n",
       "      <td>1000.0</td>\n",
       "      <td>...</td>\n",
       "      <td>SG</td>\n",
       "      <td>Cingapura</td>\n",
       "      <td>NaN</td>\n",
       "      <td>NaN</td>\n",
       "      <td>NaN</td>\n",
       "      <td>NaN</td>\n",
       "      <td>Singapura</td>\n",
       "      <td>NaN</td>\n",
       "      <td>Asia/Singapore</td>\n",
       "      <td>0.0</td>\n",
       "    </tr>\n",
       "    <tr>\n",
       "      <th>3191166</th>\n",
       "      <td>223.255.255.0/24</td>\n",
       "      <td>2077456.0</td>\n",
       "      <td>2077456.0</td>\n",
       "      <td>NaN</td>\n",
       "      <td>0</td>\n",
       "      <td>0</td>\n",
       "      <td>NaN</td>\n",
       "      <td>-33.4940</td>\n",
       "      <td>143.2104</td>\n",
       "      <td>1000.0</td>\n",
       "      <td>...</td>\n",
       "      <td>AU</td>\n",
       "      <td>Austrália</td>\n",
       "      <td>NaN</td>\n",
       "      <td>NaN</td>\n",
       "      <td>NaN</td>\n",
       "      <td>NaN</td>\n",
       "      <td>NaN</td>\n",
       "      <td>NaN</td>\n",
       "      <td>Australia/Sydney</td>\n",
       "      <td>0.0</td>\n",
       "    </tr>\n",
       "  </tbody>\n",
       "</table>\n",
       "<p>5 rows × 23 columns</p>\n",
       "</div>"
      ],
      "text/plain": [
       "                  network  geoname_id  registered_country_geoname_id  \\\n",
       "3191162  223.255.246.0/23   1258847.0                      1269750.0   \n",
       "3191163  223.255.248.0/22   1819730.0                      1819730.0   \n",
       "3191164  223.255.252.0/23   1814991.0                      1814991.0   \n",
       "3191165  223.255.254.0/24   1880252.0                      1880251.0   \n",
       "3191166  223.255.255.0/24   2077456.0                      2077456.0   \n",
       "\n",
       "         represented_country_geoname_id  is_anonymous_proxy  \\\n",
       "3191162                             NaN                   0   \n",
       "3191163                             NaN                   0   \n",
       "3191164                             NaN                   0   \n",
       "3191165                             NaN                   0   \n",
       "3191166                             NaN                   0   \n",
       "\n",
       "         is_satellite_provider postal_code  latitude  longitude  \\\n",
       "3191162                      0      360004   22.2916    70.7932   \n",
       "3191163                      0         NaN   22.2500   114.1667   \n",
       "3191164                      0         NaN   34.7725   113.7266   \n",
       "3191165                      0          14    1.2967   103.8037   \n",
       "3191166                      0         NaN  -33.4940   143.2104   \n",
       "\n",
       "         accuracy_radius  ... country_iso_code country_name  \\\n",
       "3191162              1.0  ...               IN        Índia   \n",
       "3191163             50.0  ...               HK    Hong Kong   \n",
       "3191164             50.0  ...               CN        China   \n",
       "3191165           1000.0  ...               SG    Cingapura   \n",
       "3191166           1000.0  ...               AU    Austrália   \n",
       "\n",
       "        subdivision_1_iso_code subdivision_1_name subdivision_2_iso_code  \\\n",
       "3191162                     GJ           Gujarate                    NaN   \n",
       "3191163                    NaN                NaN                    NaN   \n",
       "3191164                    NaN                NaN                    NaN   \n",
       "3191165                    NaN                NaN                    NaN   \n",
       "3191166                    NaN                NaN                    NaN   \n",
       "\n",
       "        subdivision_2_name  city_name metro_code         time_zone  \\\n",
       "3191162                NaN     Rajkot        NaN      Asia/Kolkata   \n",
       "3191163                NaN        NaN        NaN    Asia/Hong_Kong   \n",
       "3191164                NaN        NaN        NaN     Asia/Shanghai   \n",
       "3191165                NaN  Singapura        NaN    Asia/Singapore   \n",
       "3191166                NaN        NaN        NaN  Australia/Sydney   \n",
       "\n",
       "        is_in_european_union  \n",
       "3191162                  0.0  \n",
       "3191163                  0.0  \n",
       "3191164                  0.0  \n",
       "3191165                  0.0  \n",
       "3191166                  0.0  \n",
       "\n",
       "[5 rows x 23 columns]"
      ]
     },
     "execution_count": 52,
     "metadata": {},
     "output_type": "execute_result"
    }
   ],
   "source": [
    "df_city_Ipv4.tail()"
   ]
  },
  {
   "cell_type": "code",
   "execution_count": 53,
   "metadata": {},
   "outputs": [
    {
     "name": "stdout",
     "output_type": "stream",
     "text": [
      "<class 'pandas.core.frame.DataFrame'>\n",
      "Int64Index: 3191167 entries, 0 to 3191166\n",
      "Data columns (total 23 columns):\n",
      "network                           object\n",
      "geoname_id                        float64\n",
      "registered_country_geoname_id     float64\n",
      "represented_country_geoname_id    float64\n",
      "is_anonymous_proxy                int64\n",
      "is_satellite_provider             int64\n",
      "postal_code                       object\n",
      "latitude                          float64\n",
      "longitude                         float64\n",
      "accuracy_radius                   float64\n",
      "locale_code                       object\n",
      "continent_code                    object\n",
      "continent_name                    object\n",
      "country_iso_code                  object\n",
      "country_name                      object\n",
      "subdivision_1_iso_code            object\n",
      "subdivision_1_name                object\n",
      "subdivision_2_iso_code            object\n",
      "subdivision_2_name                object\n",
      "city_name                         object\n",
      "metro_code                        float64\n",
      "time_zone                         object\n",
      "is_in_european_union              float64\n",
      "dtypes: float64(8), int64(2), object(13)\n",
      "memory usage: 584.3+ MB\n"
     ]
    }
   ],
   "source": [
    "df_city_Ipv4.info()"
   ]
  },
  {
   "cell_type": "code",
   "execution_count": null,
   "metadata": {},
   "outputs": [],
   "source": [
    "df_city_Ipv4.to_csv(path + 'df_city_Ipv4.csv')"
   ]
  }
 ],
 "metadata": {
  "kernelspec": {
   "display_name": "Python 3",
   "language": "python",
   "name": "python3"
  },
  "language_info": {
   "codemirror_mode": {
    "name": "ipython",
    "version": 3
   },
   "file_extension": ".py",
   "mimetype": "text/x-python",
   "name": "python",
   "nbconvert_exporter": "python",
   "pygments_lexer": "ipython3",
   "version": "3.7.3"
  }
 },
 "nbformat": 4,
 "nbformat_minor": 2
}
